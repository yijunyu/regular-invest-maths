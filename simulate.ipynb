{
 "cells": [
  {
   "cell_type": "code",
   "execution_count": null,
   "metadata": {},
   "outputs": [],
   "source": [
    "#Problem:\n",
    "#You have £0 and 10 elves working for you. Every day, each elf earns £4. You can buy an elf for £50 each. After 100 days, what is the maximum number of elves you can have?\n",
    "#Answer: 19380 elves\n",
    "import matplotlib.pyplot as plt\n",
    "import numpy as np\n",
    "import math\n",
    "cost=50 #Cost of elf\n",
    "e=10 #Initial elves\n",
    "income=4 #Income of elves\n",
    "\n",
    "def count(n,e,cost): #<---- Actual count of elves\n",
    "  m=0 #Starting money\n",
    "\n",
    "  for i in range(n):\n",
    "    m+=e*income\n",
    "    e+=m//cost\n",
    "    m-=cost*(m//cost)\n",
    "  return e\n",
    "\n",
    "def f(z): #<---- Estimated function.\n",
    "  return e*(1+income/cost)**z\n",
    "\n",
    "#Generating graph\n",
    "graph=[]\n",
    "for i in range(100):\n",
    "  graph.append(count(i,e,cost))\n",
    "  print(count(i,e,cost))\n",
    "\n",
    "#Plotting graph\n",
    "x=np.arange(0, 100, 1)\n",
    "plt.plot(x,f(x),'b',graph,'g')\n",
    "plt.ylabel(\"Elves\")\n",
    "plt.xlabel(\"Day\")\n",
    "plt.legend(['Estimate','Actual'])\n",
    "plt.savefig(\"Elves\")"
   ]
  }
 ],
 "metadata": {
  "kernelspec": {
   "display_name": "Python 3",
   "language": "python",
   "name": "python3"
  },
  "language_info": {
   "codemirror_mode": {
    "name": "ipython",
    "version": 3
   },
   "file_extension": ".py",
   "mimetype": "text/x-python",
   "name": "python",
   "nbconvert_exporter": "python",
   "pygments_lexer": "ipython3",
   "version": "3.7.4"
  }
 },
 "nbformat": 4,
 "nbformat_minor": 2
}
